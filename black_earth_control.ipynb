{
 "cells": [
  {
   "cell_type": "code",
   "execution_count": 46,
   "id": "unsigned-assets",
   "metadata": {},
   "outputs": [],
   "source": [
    "# function to control hec-ras for bec \n",
    "# 2021/04/27\n",
    "import h5py\n",
    "import numpy as np\n",
    "import matplotlib.pyplot as plt\n",
    "import win32com.client, os, math\n",
    "import numpy as np\n",
    "from scipy import optimize as opt\n",
    "# import support\n",
    "from datetime import datetime, timedelta\n",
    "import shutil\n",
    "import pandas as pd\n",
    "import time\n",
    "import progressbar\n",
    "from time import sleep"
   ]
  },
  {
   "cell_type": "code",
   "execution_count": 19,
   "id": "starting-sleep",
   "metadata": {},
   "outputs": [],
   "source": [
    "# hec = win32com.client.Dispatch('RAS5x.HECRASController')"
   ]
  },
  {
   "cell_type": "code",
   "execution_count": 81,
   "id": "pacific-mauritius",
   "metadata": {},
   "outputs": [],
   "source": [
    "# run unsteady flow analysis\n",
    "def unsteady_compute(hec, ras_prj):\n",
    "    hec.Project_Open(ras_prj) # Open HEC-RAS\n",
    "    # show main window?\n",
    "    hec.ShowRas()\n",
    "    # show computation window?\n",
    "    hec.Compute_ShowComputationWindow()\n",
    "    # compute current plan\n",
    "    NMsg, TabMsg, block = None, None, True\n",
    "    status, _, messages, _ = hec.Compute_CurrentPlan(NMsg, TabMsg, block)\n",
    "    run_stat = hec.Compute_Complete()\n",
    "    # print(messages)\n",
    "    return run_stat, messages"
   ]
  },
  {
   "cell_type": "code",
   "execution_count": 82,
   "id": "another-castle",
   "metadata": {},
   "outputs": [],
   "source": [
    "# extract results\n",
    "def stage_extraction(hf, cell_number):\n",
    "    # read time stamp\n",
    "    time_stamp = hf[\"Results/Unsteady/Output/Output Blocks/Base Output/Unsteady Time Series/Time Date Stamp\"]\n",
    "    # read water surface\n",
    "    water_surface = hf[\"Results/Unsteady/Output/Output Blocks/Base Output/Unsteady Time Series/2D Flow Areas/BEC/Water Surface\"]\n",
    "    # read node stage time series\n",
    "    node_surface = water_surface[:, cell_number]\n",
    "    return time_stamp, node_surface"
   ]
  },
  {
   "cell_type": "code",
   "execution_count": 83,
   "id": "specified-border",
   "metadata": {},
   "outputs": [],
   "source": [
    "# # update manning table in geometry file\n",
    "def rewrite_manning(cover_table, geometry_temp_file, copy_geo_file):\n",
    "\n",
    "    # try to delete raw geometry file:BEC_0427.g03\n",
    "    if os.path.exists(copy_geo_file):\n",
    "        os.remove(copy_geo_file)\n",
    "    else:\n",
    "        print(\"Geometry file does not exisit, continue..\")\n",
    "    # adding exception handling\n",
    "    try:\n",
    "        shutil.copyfile(geometry_temp_file, copy_geo_file) # 把temp file复制一份\n",
    "    except IOError as e:\n",
    "        print(\"Unable to copy file. %s\" % e)\n",
    "        exit(1)\n",
    "    f = open(copy_geo_file, \"a+\") # 打开geometry file并追加内容\n",
    "    # 续写manning table\n",
    "    f.write(\"LCMann Table={0}\\n\".format(cover_table.shape[0]))\n",
    "    for i in range(cover_table.shape[0]):\n",
    "        cover_code = cover_table.loc[i,'Cover_code']\n",
    "        cover_manning = cover_table.loc[i, 'Manning_n']\n",
    "        f.write(\"{0},{1}\\n\".format(cover_code, cover_manning))\n",
    "    f.write(\"Chan Stop Cuts=-1\\n\\n\\n\\n\")\n",
    "    f.write(\"Use User Specified Reach Order=0\\n\")\n",
    "    f.write(\"GIS Ratio Cuts To Invert=-1\\n\")\n",
    "    f.write(\"GIS Limit At Bridges=0\\n\")\n",
    "    f.write(\"Composite Channel Slope=5\\n\")\n",
    "    f.close()\n",
    "    print(\"Manning table updated\")"
   ]
  },
  {
   "cell_type": "code",
   "execution_count": 88,
   "id": "severe-philadelphia",
   "metadata": {},
   "outputs": [
    {
     "name": "stdout",
     "output_type": "stream",
     "text": [
      "Manning table updated\n"
     ]
    }
   ],
   "source": [
    "# 创建land cover table，在geometry file里更新manning\n",
    "cover_table = pd.DataFrame()\n",
    "cover_table['Cover_code'] = [24,0,90,95,82,21,22,81,41,42,43,52,11,42,23,71,31]\n",
    "cover_table['Manning_n'] = np.ones(cover_table.shape[0]) * 0.03 # assign uniform manning\n",
    "geometry_temp_file = r\"E:\\Black_earth_hec\\Hec_2d\\BEC_0427\\BEC_0427_temp.g03\" # template geometry file\n",
    "copy_geo_file = r\"E:\\Black_earth_hec\\Hec_2d\\BEC_0427\\BEC_0427.g03\"\n",
    "rewrite_manning(cover_table, geometry_temp_file, copy_geo_file)"
   ]
  },
  {
   "cell_type": "code",
   "execution_count": 96,
   "id": "elder-positive",
   "metadata": {},
   "outputs": [
    {
     "name": "stdout",
     "output_type": "stream",
     "text": [
      "('Starting Unsteady Computations', 'Computing', 'Computations Completed')\n",
      "time cost 652.4512720108032 s\n"
     ]
    }
   ],
   "source": [
    "time_start = time.time()\n",
    "project_file = r\"E:\\Black_earth_hec\\Hec_2d\\BEC_0427\\BEC_0427.prj\"\n",
    "# 进行一次计算\n",
    "hec = win32com.client.Dispatch('RAS5x.HECRASController') # hec ras 6.0 beta 2\n",
    "run_stat, messages = unsteady_compute(hec, project_file)\n",
    "time_end = time.time() \n",
    "print(messages) # print 计算结果\n",
    "hec.QuitRas()\n",
    "del hec\n",
    "print('time cost', time_end - time_start, 's')"
   ]
  },
  {
   "cell_type": "code",
   "execution_count": 97,
   "id": "careful-things",
   "metadata": {},
   "outputs": [
    {
     "data": {
      "image/png": "[encoded data removed]",
      "text/plain": [
       "<Figure size 432x288 with 1 Axes>"
      ]
     },
     "metadata": {
      "needs_background": "light"
     },
     "output_type": "display_data"
    }
   ],
   "source": [
    "file_path = \"E:\\Black_earth_hec\\Hec_2d\\BEC_0427\"\n",
    "file_name = \"BEC_0427.p04.hdf\"\n",
    "hf = h5py.File(file_path + \"\\\\\" + file_name, \"r\")\n",
    "# cell_number = 30976 # currently it is the black creek usgs gage\n",
    "cell_number = 43092 # currently it is the treatment plant gage\n",
    "time_stamp, node_surface = stage_extraction(hf, cell_number)\n",
    "plt.plot(node_surface)\n",
    "hf.close() # close the hdf 5 file"
   ]
  },
  {
   "cell_type": "code",
   "execution_count": 68,
   "id": "artificial-georgia",
   "metadata": {},
   "outputs": [],
   "source": [
    "# project_file = r\"E:\\Black_earth_hec\\Hec_2d\\BEC\\Black_Earth_Creek_0.prj\"\n",
    "# hec = win32com.client.Dispatch('RAS5x.HECRASController') # hec ras 6.0 beta 2\n",
    "# hec.Project_Open(project_file) # Open HEC-RAS\n",
    "# # show main window?\n",
    "# # hec.ShowRas()\n",
    "# # show computation window?\n",
    "# # hec.Compute_ShowComputationWindow()\n",
    "# \n",
    "# # compute current plan\n",
    "# NMsg, TabMsg, block = None, None, True\n",
    "# status, _, messages, _ = hec.Compute_CurrentPlan(NMsg, TabMsg, block)\n",
    "# run_stat = hec.Compute_Complete()\n",
    "# print(messages)"
   ]
  },
  {
   "cell_type": "code",
   "execution_count": null,
   "id": "funny-trademark",
   "metadata": {},
   "outputs": [],
   "source": [
    "# project_file = r\"E:\\Black_earth_hec\\Hec_2d\\BEC_0427\\BEC_0427.prj\"\n",
    "# # 进行一次计算\n",
    "# hec = win32com.client.Dispatch('RAS5x.HECRASController') # hec ras 6.0 beta 2\n",
    "# unsteady_compute(hec, project_file)"
   ]
  },
  {
   "cell_type": "code",
   "execution_count": null,
   "id": "organizational-blanket",
   "metadata": {},
   "outputs": [],
   "source": []
  },
  {
   "cell_type": "code",
   "execution_count": null,
   "id": "corporate-trading",
   "metadata": {},
   "outputs": [],
   "source": [
    "# old code\n",
    "'''\n",
    "# 创建land cover table\n",
    "cover_table = pd.DataFrame()\n",
    "cover_table['Cover_code'] = [24,0,90,95,82,21,22,81,41,42,52,11,42,23,71,31]\n",
    "cover_table['Manning_n'] = np.ones(cover_table.shape[0]) * 0.04 # assign uniform manning\n",
    "\n",
    "# # update manning in geometry file\n",
    "# def rewrite_manning(geometry_file):\n",
    "\n",
    "geometry_file = r\"E:\\Black_earth_hec\\Hec_2d\\BEC_0427\\BEC_0427_temp.g03\" # template geometry file\n",
    "copy_geo_file = r\"E:\\Black_earth_hec\\Hec_2d\\BEC_0427\\BEC_0427.g03\"\n",
    "\n",
    "# try to delete raw geometry file:BEC_0427.g03\n",
    "if os.path.exists(copy_geo_file):\n",
    "    os.remove(copy_geo_file)\n",
    "else:\n",
    "    print(\"Geometry file does not exisit, continue..\")\n",
    "# adding exception handling\n",
    "try:\n",
    "    shutil.copyfile(geometry_file, copy_geo_file) # 把temp file复制一份\n",
    "except IOError as e:\n",
    "    print(\"Unable to copy file. %s\" % e)\n",
    "    exit(1)\n",
    "f = open(copy_geo_file, \"a+\") # 打开geometry file并追加内容\n",
    "# 续写manning table\n",
    "f.write(\"LCMann Table={0}\\n\".format(cover_table.shape[0]))\n",
    "for i in range(cover_table.shape[0]):\n",
    "    cover_code = cover_table.loc[i,'Cover_code']\n",
    "    cover_manning = cover_table.loc[i, 'Manning_n']\n",
    "    f.write(\"{0},{1}\\n\".format(cover_code, cover_manning))\n",
    "f.write(\"Chan Stop Cuts=-1\\n\\n\\n\\n\")\n",
    "f.write(\"Use User Specified Reach Order=0\\n\")\n",
    "f.write(\"GIS Ratio Cuts To Invert=-1\\n\")\n",
    "f.write(\"GIS Limit At Bridges=0\\n\")\n",
    "f.write(\"Composite Channel Slope=5\\n\")\n",
    "f.close()\n",
    "'''"
   ]
  }
 ],
 "metadata": {
  "kernelspec": {
   "display_name": "Python 3",
   "language": "python",
   "name": "python3"
  },
  "language_info": {
   "codemirror_mode": {
    "name": "ipython",
    "version": 3
   },
   "file_extension": ".py",
   "mimetype": "text/x-python",
   "name": "python",
   "nbconvert_exporter": "python",
   "pygments_lexer": "ipython3",
   "version": "3.8.10"
  }
 },
 "nbformat": 4,
 "nbformat_minor": 5
}
